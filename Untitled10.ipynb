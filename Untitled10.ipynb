{
 "cells": [
  {
   "cell_type": "markdown",
   "id": "4b6d08a5",
   "metadata": {},
   "source": [
    "# Q1: Import numpy library"
   ]
  },
  {
   "cell_type": "code",
   "execution_count": 3,
   "id": "3f9423b8",
   "metadata": {},
   "outputs": [],
   "source": [
    "import numpy as np"
   ]
  },
  {
   "cell_type": "markdown",
   "id": "6c1aa0e9",
   "metadata": {},
   "source": [
    "# Q2: Generate a sequence of 15 floats using linspace() function"
   ]
  },
  {
   "cell_type": "code",
   "execution_count": 15,
   "id": "5ff0832b",
   "metadata": {},
   "outputs": [
    {
     "name": "stdout",
     "output_type": "stream",
     "text": [
      "[0.         0.07142857 0.14285714 0.21428571 0.28571429 0.35714286\n",
      " 0.42857143 0.5        0.57142857 0.64285714 0.71428571 0.78571429\n",
      " 0.85714286 0.92857143 1.        ]\n"
     ]
    }
   ],
   "source": [
    "sequence = np.linspace(0.0, 1.0, num=15)\n",
    "\n",
    "print(sequence)"
   ]
  },
  {
   "cell_type": "markdown",
   "id": "34e609a0",
   "metadata": {},
   "source": [
    "# Q3: Create a 3-D array in shape (2, 2, 3) containing the four arrays given below"
   ]
  },
  {
   "cell_type": "code",
   "execution_count": 10,
   "id": "8714074e",
   "metadata": {},
   "outputs": [
    {
     "name": "stdout",
     "output_type": "stream",
     "text": [
      "[[[ 1.1  2.1  3.1]\n",
      "  [ 4.1  5.1  6.1]]\n",
      "\n",
      " [[ 7.1  8.1  9.1]\n",
      "  [10.1 11.1 12.1]]]\n"
     ]
    }
   ],
   "source": [
    "arr1 = np.array([1.1, 2.1, 3.1])\n",
    "arr2 = np.array([4.1, 5.1, 6.1])\n",
    "arr3 = np.array([7.1, 8.1, 9.1])\n",
    "arr4 = np.array([10.1, 11.1, 12.1])\n",
    "\n",
    "array = np.array([\n",
    "    [arr1, arr2],\n",
    "    [arr3, arr4]\n",
    "])\n",
    "\n",
    "print(array)"
   ]
  },
  {
   "cell_type": "markdown",
   "id": "3f931c05",
   "metadata": {},
   "source": [
    "# Q4: Print the following:\n",
    "- Note: use the same array from Q3.\n",
    "\n",
    "- Array's type.\n",
    "- Array's elements datatype.\n",
    "- Array's shape.\n",
    "- Array's size.\n",
    "- Array's dimention."
   ]
  },
  {
   "cell_type": "code",
   "execution_count": 19,
   "id": "bc0b48da",
   "metadata": {},
   "outputs": [
    {
     "name": "stdout",
     "output_type": "stream",
     "text": [
      "float64\n",
      "3\n",
      "(2, 2, 3)\n",
      "12\n"
     ]
    }
   ],
   "source": [
    "print(array.dtype)\n",
    "print(array.ndim)\n",
    "print(array.shape)\n",
    "print(array.size)"
   ]
  },
  {
   "cell_type": "markdown",
   "id": "77ea0493",
   "metadata": {},
   "source": [
    "# Q5: Change the array dimention from 3-D to 4-D\n",
    "- Note: use the same array from Q3.\n",
    "\n",
    "- Create a new array to hold the changes.\n",
    "- Print the new array's dimention and shape."
   ]
  },
  {
   "cell_type": "code",
   "execution_count": 23,
   "id": "9b8fd51d",
   "metadata": {},
   "outputs": [
    {
     "name": "stdout",
     "output_type": "stream",
     "text": [
      "New array's dimension: 4\n",
      "New array's shape: (1, 2, 2, 3)\n"
     ]
    }
   ],
   "source": [
    "array = np.array([\n",
    "    [arr1, arr2],\n",
    "    [arr3, arr4]\n",
    "])\n",
    "\n",
    "new_array = array[np.newaxis, ...]\n",
    "\n",
    "# print the new array's dimension and shape\n",
    "print(\"New array's dimension:\", new_array.ndim)\n",
    "print(\"New array's shape:\", new_array.shape)"
   ]
  },
  {
   "cell_type": "markdown",
   "id": "7c7c9a40",
   "metadata": {},
   "source": [
    "# Q6: Change the array's elements datatype to integer\n",
    "- Note: use the same array from Q5.\n",
    "\n",
    "- Create a new array to hold the changes.\n",
    "- Print the new array."
   ]
  },
  {
   "cell_type": "code",
   "execution_count": 25,
   "id": "27cddfc0",
   "metadata": {},
   "outputs": [
    {
     "name": "stdout",
     "output_type": "stream",
     "text": [
      "[[[ 1  2  3]\n",
      "  [ 4  5  6]]\n",
      "\n",
      " [[ 7  8  9]\n",
      "  [10 11 12]]]\n"
     ]
    }
   ],
   "source": [
    "new_array = array.astype(np.int32)\n",
    "\n",
    "print(new_array)"
   ]
  },
  {
   "cell_type": "markdown",
   "id": "9e19c8a3",
   "metadata": {},
   "source": [
    "# Q7: Print all array's elements using for loop\n",
    "- Note: use the same array from Q6.\n",
    "\n",
    "- Hint: use nditer()"
   ]
  },
  {
   "cell_type": "code",
   "execution_count": 27,
   "id": "e0f007f6",
   "metadata": {},
   "outputs": [
    {
     "name": "stdout",
     "output_type": "stream",
     "text": [
      "1.1\n",
      "2.1\n",
      "3.1\n",
      "4.1\n",
      "5.1\n",
      "6.1\n",
      "7.1\n",
      "8.1\n",
      "9.1\n",
      "10.1\n",
      "11.1\n",
      "12.1\n"
     ]
    }
   ],
   "source": [
    "for element in array.flat:\n",
    "    print(element)"
   ]
  },
  {
   "cell_type": "markdown",
   "id": "5397628a",
   "metadata": {},
   "source": [
    "# Q8: Print number 8 using array slicing\n",
    "- Note: use the same array from Q6."
   ]
  },
  {
   "cell_type": "code",
   "execution_count": 29,
   "id": "b0d92549",
   "metadata": {},
   "outputs": [
    {
     "name": "stdout",
     "output_type": "stream",
     "text": [
      "8.1\n"
     ]
    }
   ],
   "source": [
    "print(array[1, 0, 1])"
   ]
  },
  {
   "cell_type": "markdown",
   "id": "87ba1aa9",
   "metadata": {},
   "source": [
    "# Q9: Print number 5 and number 6 using array slicing\n",
    "- Note: use the same array from Q6."
   ]
  },
  {
   "cell_type": "code",
   "execution_count": 31,
   "id": "44f392e9",
   "metadata": {},
   "outputs": [
    {
     "name": "stdout",
     "output_type": "stream",
     "text": [
      "[5.1 6.1]\n"
     ]
    }
   ],
   "source": [
    "print(array[0, 1, 1:3])"
   ]
  },
  {
   "cell_type": "markdown",
   "id": "51089659",
   "metadata": {},
   "source": [
    "# Q10: Search for number 8 using where()\n",
    "- Note: use the same array from Q6.\n",
    "\n",
    "- Note: where() is only used with small data.\n",
    "\n",
    "- the output represents the path of the index that leads to number 8"
   ]
  },
  {
   "cell_type": "code",
   "execution_count": 35,
   "id": "3ef36859",
   "metadata": {},
   "outputs": [
    {
     "name": "stdout",
     "output_type": "stream",
     "text": [
      "(array([1]), array([0]), array([1]))\n"
     ]
    }
   ],
   "source": [
    "indices = np.where(array == 8.1)\n",
    "\n",
    "print(indices)"
   ]
  },
  {
   "cell_type": "markdown",
   "id": "83a220fc",
   "metadata": {},
   "source": [
    "# Q11: Reshape the array as the following\n",
    "- array([[[ 1, 2],\n",
    "        [ 3,  4],\n",
    "        [ 5,  6]],\n",
    "\n",
    "       [[ 7,  8],\n",
    "        [ 9, 10],\n",
    "        [11, 12]]])\n",
    "\n",
    "- Note: use the same array from Q6."
   ]
  },
  {
   "cell_type": "code",
   "execution_count": 50,
   "id": "50f1d568",
   "metadata": {},
   "outputs": [
    {
     "name": "stdout",
     "output_type": "stream",
     "text": [
      "[[[ 1.1  2.1]\n",
      "  [ 3.1  4.1]\n",
      "  [ 5.1  6.1]]\n",
      "\n",
      " [[ 7.1  8.1]\n",
      "  [ 9.1 10.1]\n",
      "  [11.1 12.1]]]\n"
     ]
    }
   ],
   "source": [
    "new_array = np.reshape(array, (2, 3, 2))\n",
    "\n",
    "print(new_array)"
   ]
  },
  {
   "cell_type": "markdown",
   "id": "a0bf7a74",
   "metadata": {},
   "source": [
    "# Q12: Join the given arrays below\n",
    "        - arr1 = np.array([['A', 'B'], ['E', 'F']])\n",
    "        - arr2 = np.array([['C', 'D'], ['G', 'H']]"
   ]
  },
  {
   "cell_type": "markdown",
   "id": "d72cb56a",
   "metadata": {},
   "source": [
    "# Q12.1: Join the arrays without specifying the axis"
   ]
  },
  {
   "cell_type": "code",
   "execution_count": 36,
   "id": "67dc9ecb",
   "metadata": {},
   "outputs": [
    {
     "name": "stdout",
     "output_type": "stream",
     "text": [
      "[['A' 'B']\n",
      " ['E' 'F']\n",
      " ['C' 'D']\n",
      " ['G' 'H']]\n"
     ]
    }
   ],
   "source": [
    "arr1 = np.array([['A', 'B'], ['E', 'F']])\n",
    "arr2 = np.array([['C', 'D'], ['G', 'H']])\n",
    "\n",
    "\n",
    "new_array = np.concatenate((arr1, arr2))\n",
    "\n",
    "\n",
    "print(new_array)"
   ]
  },
  {
   "cell_type": "markdown",
   "id": "e63bc395",
   "metadata": {},
   "source": [
    "# Q12.2: Join the arrays along rows with axis = 1"
   ]
  },
  {
   "cell_type": "code",
   "execution_count": 37,
   "id": "1af88519",
   "metadata": {},
   "outputs": [
    {
     "name": "stdout",
     "output_type": "stream",
     "text": [
      "[['A' 'B' 'C' 'D']\n",
      " ['E' 'F' 'G' 'H']]\n"
     ]
    }
   ],
   "source": [
    "new_array = np.concatenate((arr1, arr2), axis=1)\n",
    "\n",
    "print(new_array)"
   ]
  },
  {
   "cell_type": "markdown",
   "id": "6ce76592",
   "metadata": {},
   "source": [
    "# Q13: Split the array into two arrays with axis = 1, each array should contain four arrays.\n",
    "- Note: use the same array from Q12.1"
   ]
  },
  {
   "cell_type": "code",
   "execution_count": 52,
   "id": "9ffd8a7d",
   "metadata": {},
   "outputs": [
    {
     "name": "stdout",
     "output_type": "stream",
     "text": [
      "[[['A']\n",
      "  ['E']]\n",
      "\n",
      " [['B']\n",
      "  ['F']]\n",
      "\n",
      " [['C']\n",
      "  ['G']]\n",
      "\n",
      " [['D']\n",
      "  ['H']]]\n"
     ]
    }
   ],
   "source": [
    "arr1 = np.array([['A', 'B'], ['E', 'F']])\n",
    "arr2 = np.array([['C', 'D'], ['G', 'H']])\n",
    "\n",
    "new_array1, new_array2 = np.split(arr1, 2, axis=1), np.split(arr2, 2, axis=1)\n",
    "\n",
    "new_array = np.concatenate((new_array1, new_array2), axis=0)\n",
    "\n",
    "print(new_array)"
   ]
  }
 ],
 "metadata": {
  "kernelspec": {
   "display_name": "Python 3 (ipykernel)",
   "language": "python",
   "name": "python3"
  },
  "language_info": {
   "codemirror_mode": {
    "name": "ipython",
    "version": 3
   },
   "file_extension": ".py",
   "mimetype": "text/x-python",
   "name": "python",
   "nbconvert_exporter": "python",
   "pygments_lexer": "ipython3",
   "version": "3.9.13"
  }
 },
 "nbformat": 4,
 "nbformat_minor": 5
}
